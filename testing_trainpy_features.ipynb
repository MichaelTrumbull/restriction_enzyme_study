{
 "cells": [
  {
   "cell_type": "code",
   "execution_count": 1,
   "metadata": {},
   "outputs": [],
   "source": [
    "import model.train as t\n",
    "import torch\n",
    "import torch.nn as nn\n"
   ]
  },
  {
   "cell_type": "code",
   "execution_count": 15,
   "metadata": {},
   "outputs": [
    {
     "name": "stdout",
     "output_type": "stream",
     "text": [
      "<class 'str'>\n"
     ]
    }
   ],
   "source": [
    "test = torch.FloatTensor([[1,0,0,0,1,0,0,0],[1,0,0,0,1,0,0,0]])\n",
    "test2 = torch.FloatTensor([[1,0,3,0,3,0,0,0],[0,0,1,0,0,1,0,0]])\n",
    "mse = nn.MSELoss()\n",
    "crossentropy = nn.CrossEntropyLoss()\n",
    "softmax = nn.Softmax(dim=1)\n",
    "test.size()"
   ]
  },
  {
   "cell_type": "code",
   "execution_count": 3,
   "metadata": {},
   "outputs": [
    {
     "name": "stdout",
     "output_type": "stream",
     "text": [
      "tensor(0.0625, requires_grad=True)\n",
      "tensor(1.0625)\n"
     ]
    }
   ],
   "source": [
    "print(t.split_mse(test,test2))\n",
    "print(mse(test,test2))"
   ]
  },
  {
   "cell_type": "code",
   "execution_count": 4,
   "metadata": {},
   "outputs": [
    {
     "name": "stdout",
     "output_type": "stream",
     "text": [
      "tensor(0., requires_grad=True)\n",
      "tensor(0.)\n"
     ]
    }
   ],
   "source": [
    "print(t.split_mse(test,test))\n",
    "print(mse(test,test))"
   ]
  },
  {
   "cell_type": "code",
   "execution_count": 5,
   "metadata": {},
   "outputs": [
    {
     "name": "stdout",
     "output_type": "stream",
     "text": [
      "tensor(0.0054, requires_grad=True)\n",
      "tensor(0.0917)\n"
     ]
    }
   ],
   "source": [
    "print(t.split_mse(test,t.split_softmax(test)))\n",
    "print(mse(test,t.split_softmax(test)))"
   ]
  },
  {
   "cell_type": "code",
   "execution_count": 6,
   "metadata": {},
   "outputs": [
    {
     "name": "stdout",
     "output_type": "stream",
     "text": [
      "tensor(0.1720, requires_grad=True)\n",
      "tensor(8.9657)\n"
     ]
    }
   ],
   "source": [
    "print(t.split_crossentropy(test,test2))\n",
    "print(crossentropy(test,test2))"
   ]
  },
  {
   "cell_type": "code",
   "execution_count": 11,
   "metadata": {},
   "outputs": [
    {
     "name": "stdout",
     "output_type": "stream",
     "text": [
      "tensor(0.0746, requires_grad=True)\n",
      "tensor(3.9229)\n"
     ]
    }
   ],
   "source": [
    "print(t.split_crossentropy(test,t.split_softmax(test)))\n",
    "print(crossentropy(test,t.split_softmax(test)))"
   ]
  },
  {
   "cell_type": "code",
   "execution_count": 7,
   "metadata": {},
   "outputs": [],
   "source": [
    "data = torch.load(\"data/target_Methylation_Motif_padmiddle.pt\")"
   ]
  },
  {
   "cell_type": "code",
   "execution_count": 8,
   "metadata": {},
   "outputs": [
    {
     "data": {
      "text/plain": [
       "torch.Size([600, 136])"
      ]
     },
     "execution_count": 8,
     "metadata": {},
     "output_type": "execute_result"
    }
   ],
   "source": [
    "data.size()"
   ]
  },
  {
   "cell_type": "code",
   "execution_count": 9,
   "metadata": {},
   "outputs": [
    {
     "data": {
      "text/plain": [
       "tensor(38.6358, requires_grad=True)"
      ]
     },
     "execution_count": 9,
     "metadata": {},
     "output_type": "execute_result"
    }
   ],
   "source": [
    "t.split_mse(data,data*10)"
   ]
  },
  {
   "cell_type": "code",
   "execution_count": 10,
   "metadata": {},
   "outputs": [
    {
     "data": {
      "text/plain": [
       "tensor(38.6358)"
      ]
     },
     "execution_count": 10,
     "metadata": {},
     "output_type": "execute_result"
    }
   ],
   "source": [
    "mse(data,data*10)"
   ]
  },
  {
   "cell_type": "code",
   "execution_count": null,
   "metadata": {},
   "outputs": [],
   "source": []
  }
 ],
 "metadata": {
  "kernelspec": {
   "display_name": "Python 3.10.4 ('pt')",
   "language": "python",
   "name": "python3"
  },
  "language_info": {
   "codemirror_mode": {
    "name": "ipython",
    "version": 3
   },
   "file_extension": ".py",
   "mimetype": "text/x-python",
   "name": "python",
   "nbconvert_exporter": "python",
   "pygments_lexer": "ipython3",
   "version": "3.10.4"
  },
  "orig_nbformat": 4,
  "vscode": {
   "interpreter": {
    "hash": "89bb2edc013244411cbf7717b4d79309c84a79783ea40f60c98be42a1849b8fa"
   }
  }
 },
 "nbformat": 4,
 "nbformat_minor": 2
}
